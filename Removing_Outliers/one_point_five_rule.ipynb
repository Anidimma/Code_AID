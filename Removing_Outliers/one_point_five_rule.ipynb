{
 "cells": [
  {
   "cell_type": "markdown",
   "metadata": {},
   "source": [
    "## PLEASE NOTE THAT THIS FUCNTION WILL ONLY WORK IF YOUR DATASET IS FREE OF DATA QUALITY ISSUES, SUCH AS:\n",
    "1. LETTERS INSIDE NUMBERS OF COLUMNS WITH NUMERIC VALUES\n",
    "2. ? AND OTHER SIMBOLS INSIDE ROWS OF COLUMNS WITH NUMERIC VALUES\n",
    "3. IMPROPER FORMATING OF COLUMNS WITH NUMERIC VALUES,\n",
    "ETC\n"
   ]
  },
  {
   "cell_type": "code",
   "execution_count": null,
   "metadata": {},
   "outputs": [],
   "source": [
    "\n",
    "def outlier(data):\n",
    "    \n",
    "    counter = 0\n",
    "    counter2 = 0\n",
    "    counter3 = 1\n",
    "    data_Dict = {}\n",
    "    quantile_dict = {}\n",
    "    \n",
    "    #Creating the 25% and 75% quantile, I excluded the last column because that is the result column\n",
    "    Q1 = [data[i].quantile([0.25]) for i in data.columns.values if i != data.columns.values[-1]]\n",
    "    Q3 = [data[i].quantile([0.75]) for i in data.columns.values if i != data.columns.values[-1]]\n",
    "\n",
    "    for i in range(len(Q1)):\n",
    "        quantile_dict[Q1[i].name] = [float(Q3[i].values),float(Q1[i].values)]\n",
    "    \n",
    "    #Creating the Inter-quantile Range\n",
    "    IQ_R = [value[0] - value[1] for value in quantile_dict.values()]\n",
    "    \n",
    "    #Creating the minimum and maximum thresold values\n",
    "    out_liers = {'lower_outlier_thresold': [ float(Q1[i] - (IQ_R[i]*1.5)) for i in range(len(Q1))],\n",
    "                 'upper_outlier_thresold': [ float(Q3[i] + (IQ_R[i]*1.5)) for i in range(len(Q1))]}\n",
    "    \n",
    "    columns = [i for i  in data.columns.values if i != data.columns.values[-1]]\n",
    "    out_Data = pd.DataFrame(out_liers, index = columns)\n",
    "\n",
    "    #Creating the new dataset without the outliers from the previous dataset\n",
    "    for i in data.columns.values:\n",
    "        if i != data.columns.values[-1]:\n",
    "\n",
    "            min_edge = out_Data.iloc[:,counter][counter2]\n",
    "            max_edge = out_Data.iloc[:,counter3][counter2]\n",
    "\n",
    "            val = data[((data[i] >= min_edge) & (data[i] <= max_edge))]\n",
    "            data_Dict[i] = val[i]\n",
    "            counter2+=1\n",
    "            \n",
    "    df_2 = pd.DataFrame(data_Dict)\n",
    "    df_2[data.columns.values[-1]] = data.iloc[:,-1]\n",
    "    return(df_2)\n",
    "\n",
    "\n",
    "df2 = outlier('Insert Data')\n",
    "df2.head()"
   ]
  },
  {
   "cell_type": "markdown",
   "metadata": {},
   "source": [
    "### The new dataset created is free from the outliers of the previous dataset (based on the 1.5 rule), though when you plot a boxplot to confirm you might still see some columns with outliers, don't be alarmed; those are not the previous outliers from the previous dataset. Construct your ML model and compare the results from before and after applying this function"
   ]
  },
  {
   "cell_type": "code",
   "execution_count": null,
   "metadata": {},
   "outputs": [],
   "source": []
  }
 ],
 "metadata": {
  "kernelspec": {
   "display_name": "Python 3",
   "language": "python",
   "name": "python3"
  },
  "language_info": {
   "codemirror_mode": {
    "name": "ipython",
    "version": 3
   },
   "file_extension": ".py",
   "mimetype": "text/x-python",
   "name": "python",
   "nbconvert_exporter": "python",
   "pygments_lexer": "ipython3",
   "version": "3.7.4"
  }
 },
 "nbformat": 4,
 "nbformat_minor": 4
}
